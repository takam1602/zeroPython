{
  "nbformat": 4,
  "nbformat_minor": 0,
  "metadata": {
    "colab": {
      "name": "Untitled4.ipynb",
      "provenance": [],
      "authorship_tag": "ABX9TyN0rvLA2bfHjdMAyxaM4G3f",
      "include_colab_link": true
    },
    "kernelspec": {
      "name": "python3",
      "display_name": "Python 3"
    },
    "language_info": {
      "name": "python"
    }
  },
  "cells": [
    {
      "cell_type": "markdown",
      "metadata": {
        "id": "view-in-github",
        "colab_type": "text"
      },
      "source": [
        "<a href=\"https://colab.research.google.com/github/takam1602/zeroPython/blob/main/Chapter4_Koch.ipynb\" target=\"_parent\"><img src=\"https://colab.research.google.com/assets/colab-badge.svg\" alt=\"Open In Colab\"/></a>"
      ]
    },
    {
      "cell_type": "code",
      "metadata": {
        "id": "Uyc47xHrIMDx"
      },
      "source": [
        "a = [1,2,3]\n",
        "b = a"
      ],
      "execution_count": 6,
      "outputs": []
    },
    {
      "cell_type": "code",
      "metadata": {
        "colab": {
          "base_uri": "https://localhost:8080/"
        },
        "id": "haVbG3FwNi7R",
        "outputId": "31d02066-ac55-40f6-d0e9-af965e722282"
      },
      "source": [
        "a\n",
        "b"
      ],
      "execution_count": 7,
      "outputs": [
        {
          "output_type": "execute_result",
          "data": {
            "text/plain": [
              "[1, 2, 3]"
            ]
          },
          "metadata": {
            "tags": []
          },
          "execution_count": 7
        }
      ]
    },
    {
      "cell_type": "code",
      "metadata": {
        "colab": {
          "base_uri": "https://localhost:8080/"
        },
        "id": "JgUgJ7wqNjti",
        "outputId": "c9610f15-72c0-49fd-aa8a-c955f61aad2e"
      },
      "source": [
        "b\n"
      ],
      "execution_count": 8,
      "outputs": [
        {
          "output_type": "execute_result",
          "data": {
            "text/plain": [
              "[1, 2, 3]"
            ]
          },
          "metadata": {
            "tags": []
          },
          "execution_count": 8
        }
      ]
    },
    {
      "cell_type": "code",
      "metadata": {
        "id": "ARvljLKfNlGS"
      },
      "source": [
        "b = [4,5,6]"
      ],
      "execution_count": 9,
      "outputs": []
    },
    {
      "cell_type": "code",
      "metadata": {
        "colab": {
          "base_uri": "https://localhost:8080/"
        },
        "id": "HIPtMD6-N207",
        "outputId": "e9963c69-9b62-4b87-f64a-b3d5463748fe"
      },
      "source": [
        "def func(a):\n",
        "  a[1]  = 5\n",
        "\n",
        "a =[1,2,3]\n",
        "func(a)\n",
        "print(a)"
      ],
      "execution_count": 10,
      "outputs": [
        {
          "output_type": "stream",
          "text": [
            "[1, 5, 3]\n"
          ],
          "name": "stdout"
        }
      ]
    },
    {
      "cell_type": "code",
      "metadata": {
        "colab": {
          "base_uri": "https://localhost:8080/"
        },
        "id": "Kl73YPyOO8ko",
        "outputId": "374209a7-3c83-4f2b-e9a8-6b7da9f4d239"
      },
      "source": [
        "source = [0,1,2]\n",
        "result = []\n",
        "for i in source:\n",
        "  result.append(i*2)\n",
        "\n",
        "result "
      ],
      "execution_count": 11,
      "outputs": [
        {
          "output_type": "execute_result",
          "data": {
            "text/plain": [
              "[0, 2, 4]"
            ]
          },
          "metadata": {
            "tags": []
          },
          "execution_count": 11
        }
      ]
    },
    {
      "cell_type": "code",
      "metadata": {
        "colab": {
          "base_uri": "https://localhost:8080/"
        },
        "id": "MwqO4NBmQDmV",
        "outputId": "5ad634ec-2781-47eb-bef2-302bbd13e290"
      },
      "source": [
        "from math import sqrt\n",
        "from PIL import Image,ImageDraw\n",
        "\n",
        "def length(a):\n",
        "  x,y = 0,0\n",
        "  for (dx,dy) in a:\n",
        "    x += dx\n",
        "    y += dy\n",
        "  return sqrt(x**2+y**2)\n",
        "\n",
        "a = [(1,0),(0,1)]\n",
        "length(a)"
      ],
      "execution_count": 12,
      "outputs": [
        {
          "output_type": "execute_result",
          "data": {
            "text/plain": [
              "1.4142135623730951"
            ]
          },
          "metadata": {
            "tags": []
          },
          "execution_count": 12
        }
      ]
    },
    {
      "cell_type": "code",
      "metadata": {
        "id": "Ivg2zQqkR6uf"
      },
      "source": [
        "def convert(a,b):\n",
        "  ax,ay = a\n",
        "  alen  = sqrt(ax**2+ay**2)\n",
        "  c = ax/alen\n",
        "  s = ay/alen\n",
        "  scale = alen/length(b)\n",
        "  b = [(scale*x,scale*y) for (x,y) in b]\n",
        "  b = [(c*x - s*y,s*x+c*y)for (x,y) in b]\n",
        "  return b"
      ],
      "execution_count": 15,
      "outputs": []
    },
    {
      "cell_type": "code",
      "metadata": {
        "colab": {
          "base_uri": "https://localhost:8080/"
        },
        "id": "qQZoOtZ5TcRx",
        "outputId": "00979bab-0392-4f1e-b2d2-8328f5d8ec5d"
      },
      "source": [
        "a = (0,1)\n",
        "b = [(1,1),(1,-1)]\n",
        "convert(a,b)"
      ],
      "execution_count": 16,
      "outputs": [
        {
          "output_type": "execute_result",
          "data": {
            "text/plain": [
              "[(-0.5, 0.5), (0.5, 0.5)]"
            ]
          },
          "metadata": {
            "tags": []
          },
          "execution_count": 16
        }
      ]
    },
    {
      "cell_type": "code",
      "metadata": {
        "id": "fex1CjvjTjtH"
      },
      "source": [
        "def apply(a,b):\n",
        "  r = []\n",
        "  for i in a:\n",
        "    r+=convert(i,b)\n",
        "  return r"
      ],
      "execution_count": 17,
      "outputs": []
    },
    {
      "cell_type": "code",
      "metadata": {
        "colab": {
          "base_uri": "https://localhost:8080/"
        },
        "id": "Ij1RDGNHT4lq",
        "outputId": "a1e03f98-203e-47db-d384-4493b220e23b"
      },
      "source": [
        "a = [(1,0),(0,-1)]\n",
        "b = [(1,1),(1,-1)]\n",
        "apply(a,b)"
      ],
      "execution_count": 18,
      "outputs": [
        {
          "output_type": "execute_result",
          "data": {
            "text/plain": [
              "[(0.5, 0.5), (0.5, -0.5), (0.5, -0.5), (-0.5, -0.5)]"
            ]
          },
          "metadata": {
            "tags": []
          },
          "execution_count": 18
        }
      ]
    },
    {
      "cell_type": "code",
      "metadata": {
        "id": "H1RGzFqMUBcj"
      },
      "source": [
        "def drawLine(draw,a,size):\n",
        "  x1,y1 = 0,0\n",
        "  for (dx,dy) in a:\n",
        "    x2 = x1 + dx\n",
        "    y2 = y1 + dy\n",
        "    draw.line((x1,size/2 - y1,x2,size/2 - y2),fill = (255,0,0))\n",
        "    x1,y1 = x2,y2"
      ],
      "execution_count": 20,
      "outputs": []
    },
    {
      "cell_type": "code",
      "metadata": {
        "colab": {
          "base_uri": "https://localhost:8080/",
          "height": 529
        },
        "id": "XAc9JAcRUg4F",
        "outputId": "e0998a53-3d4e-49fd-bda5-32a4597a5dcb"
      },
      "source": [
        "size = 512\n",
        "N = 3\n",
        "img = Image.new(\"RGB\",(size,size))\n",
        "draw = ImageDraw.Draw(img)\n",
        "a = [(size,0)]\n",
        "b = [(1,0),(0.5,sqrt(3.0)/2),(0.5,-sqrt(3.0)/2),(1,0)]\n",
        "for _ in range(N):\n",
        "  a = apply(a,b)\n",
        "drawLine(draw,a,size)\n",
        "img "
      ],
      "execution_count": 29,
      "outputs": [
        {
          "output_type": "execute_result",
          "data": {
            "image/png": "[encoded data removed]",
            "text/plain": [
              "<PIL.Image.Image image mode=RGB size=512x512 at 0x7F453444D6D0>"
            ]
          },
          "metadata": {
            "tags": []
          },
          "execution_count": 29
        }
      ]
    },
    {
      "cell_type": "code",
      "metadata": {
        "colab": {
          "base_uri": "https://localhost:8080/",
          "height": 529
        },
        "id": "ifVHZR3jVKaN",
        "outputId": "6a250abd-0bbf-4026-c317-7b1a24c9bf11"
      },
      "source": [
        "size = 512\n",
        "N = 6\n",
        "img = Image.new(\"RGB\",(size,size))\n",
        "draw = ImageDraw.Draw(img)\n",
        "a = [(size,0)]\n",
        "b = [(1,0),(0,1),(1,0),(0,-1),(1,0)]\n",
        "for _ in range(N):\n",
        "  a = apply(a,b)\n",
        "drawLine(draw,a,size)\n",
        "img "
      ],
      "execution_count": 36,
      "outputs": [
        {
          "output_type": "execute_result",
          "data": {
            "image/png": "[encoded data removed]",
            "text/plain": [
              "<PIL.Image.Image image mode=RGB size=512x512 at 0x7F45316B5150>"
            ]
          },
          "metadata": {
            "tags": []
          },
          "execution_count": 36
        }
      ]
    },
    {
      "cell_type": "code",
      "metadata": {
        "id": "mlUIImnSVmUj"
      },
      "source": [
        "def drawLineColor(draw,a,colors,size):\n",
        "  x1,y1 = 0,0\n",
        "  for i,(dx,dy) in enumerate(a):\n",
        "    x2 = x1 + dx\n",
        "    y2 = y1 + dy\n",
        "    c = colors[i%3]\n",
        "    draw.line((x1,size/2-y1,x2,size/2 - y2),fill= c)\n",
        "    x1,y1 = x2,y2"
      ],
      "execution_count": 46,
      "outputs": []
    },
    {
      "cell_type": "code",
      "metadata": {
        "colab": {
          "base_uri": "https://localhost:8080/",
          "height": 529
        },
        "id": "5vnSd1BWXBPA",
        "outputId": "69e1eda5-b4b1-4692-c190-68fe1cbcd3cc"
      },
      "source": [
        "size = 512\n",
        "N = 2\n",
        "img = Image.new(\"RGB\",(size,size))\n",
        "draw = ImageDraw.Draw(img)\n",
        "a = [(size,0)]\n",
        "b = [(1,0),(0.5,sqrt(3.0)/2),(0.5,-sqrt(3.0)/2),(1,0)]\n",
        "c = [(255,0,0),(0,255,0),(0,0,255)]\n",
        "for _ in range(N):\n",
        "  a = apply(a,b)\n",
        "drawLineColor(draw,a,c,size)\n",
        "img "
      ],
      "execution_count": 48,
      "outputs": [
        {
          "output_type": "execute_result",
          "data": {
            "image/png": "[encoded data removed]",
            "text/plain": [
              "<PIL.Image.Image image mode=RGB size=512x512 at 0x7F45316B1E90>"
            ]
          },
          "metadata": {
            "tags": []
          },
          "execution_count": 48
        }
      ]
    },
    {
      "cell_type": "code",
      "metadata": {
        "id": "0-wn50eBXUGI"
      },
      "source": [
        ""
      ],
      "execution_count": null,
      "outputs": []
    }
  ]
}