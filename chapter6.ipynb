{
  "nbformat": 4,
  "nbformat_minor": 0,
  "metadata": {
    "colab": {
      "name": "Untitled6.ipynb",
      "provenance": [],
      "authorship_tag": "ABX9TyPqZbQfXnen1RHhFT2ljYfc",
      "include_colab_link": true
    },
    "kernelspec": {
      "name": "python3",
      "display_name": "Python 3"
    },
    "language_info": {
      "name": "python"
    }
  },
  "cells": [
    {
      "cell_type": "markdown",
      "metadata": {
        "id": "view-in-github",
        "colab_type": "text"
      },
      "source": [
        "<a href=\"https://colab.research.google.com/github/takam1602/zeroPython/blob/main/chapter6.ipynb\" target=\"_parent\"><img src=\"https://colab.research.google.com/assets/colab-badge.svg\" alt=\"Open In Colab\"/></a>"
      ]
    },
    {
      "cell_type": "code",
      "metadata": {
        "colab": {
          "base_uri": "https://localhost:8080/"
        },
        "id": "075XDv8bgSGm",
        "outputId": "61b3e2ee-1f21-426f-b80d-cf2836a978e6"
      },
      "source": [
        "!wget http://github.com/kaityo256/python_zero/file/colortv.csv"
      ],
      "execution_count": 2,
      "outputs": [
        {
          "output_type": "stream",
          "text": [
            "--2021-04-04 06:27:59--  http://github.com/kaityo256/python_zero/file/colortv.csv\n",
            "Resolving github.com (github.com)... 140.82.112.3\n",
            "Connecting to github.com (github.com)|140.82.112.3|:80... connected.\n",
            "HTTP request sent, awaiting response... 301 Moved Permanently\n",
            "Location: https://github.com/kaityo256/python_zero/file/colortv.csv [following]\n",
            "--2021-04-04 06:27:59--  https://github.com/kaityo256/python_zero/file/colortv.csv\n",
            "Connecting to github.com (github.com)|140.82.112.3|:443... connected.\n",
            "HTTP request sent, awaiting response... 404 Not Found\n",
            "2021-04-04 06:27:59 ERROR 404: Not Found.\n",
            "\n"
          ],
          "name": "stdout"
        }
      ]
    },
    {
      "cell_type": "code",
      "metadata": {
        "id": "MHGjL6kakRKK"
      },
      "source": [
        "f = open(\"text.txt\",\"w\")\n",
        "f.write(\"Hellow colab\\n\")\n",
        "f.close()"
      ],
      "execution_count": 3,
      "outputs": []
    },
    {
      "cell_type": "code",
      "metadata": {
        "id": "gsT2eQqkmVei"
      },
      "source": [
        "file = open(\"text.txt\",\"a\")\n",
        "file.write(\"hello helloe world\\n\")\n",
        "file.close()"
      ],
      "execution_count": 5,
      "outputs": []
    },
    {
      "cell_type": "code",
      "metadata": {
        "colab": {
          "base_uri": "https://localhost:8080/",
          "height": 172
        },
        "id": "c2R8iH2tnE3D",
        "outputId": "9f790563-018a-49e0-ebd3-840162de819b"
      },
      "source": [
        "text.txt"
      ],
      "execution_count": 6,
      "outputs": [
        {
          "output_type": "error",
          "ename": "NameError",
          "evalue": "ignored",
          "traceback": [
            "\u001b[0;31m---------------------------------------------------------------------------\u001b[0m",
            "\u001b[0;31mNameError\u001b[0m                                 Traceback (most recent call last)",
            "\u001b[0;32m<ipython-input-6-7378008065ec>\u001b[0m in \u001b[0;36m<module>\u001b[0;34m()\u001b[0m\n\u001b[0;32m----> 1\u001b[0;31m \u001b[0mtext\u001b[0m\u001b[0;34m.\u001b[0m\u001b[0mtxt\u001b[0m\u001b[0;34m\u001b[0m\u001b[0;34m\u001b[0m\u001b[0m\n\u001b[0m",
            "\u001b[0;31mNameError\u001b[0m: name 'text' is not defined"
          ]
        }
      ]
    },
    {
      "cell_type": "code",
      "metadata": {
        "colab": {
          "base_uri": "https://localhost:8080/"
        },
        "id": "ScOztrmPnI17",
        "outputId": "ae97f958-3aeb-423f-a86d-1002da86a3f8"
      },
      "source": [
        "f = open(\"text.txt\")\n",
        "for line in f:\n",
        "  print(line.rstrip())"
      ],
      "execution_count": 10,
      "outputs": [
        {
          "output_type": "stream",
          "text": [
            "Hellow colab\n",
            "hello helloe world\n"
          ],
          "name": "stdout"
        }
      ]
    },
    {
      "cell_type": "code",
      "metadata": {
        "id": "mEcpbzWdoY1x"
      },
      "source": [
        ""
      ],
      "execution_count": null,
      "outputs": []
    },
    {
      "cell_type": "code",
      "metadata": {
        "colab": {
          "base_uri": "https://localhost:8080/"
        },
        "id": "Pi_tTUlEoH8N",
        "outputId": "6e7449c3-3377-4e6f-d039-0191a671082b"
      },
      "source": [
        "f"
      ],
      "execution_count": 8,
      "outputs": [
        {
          "output_type": "execute_result",
          "data": {
            "text/plain": [
              "<_io.TextIOWrapper name='text.txt' mode='r' encoding='UTF-8'>"
            ]
          },
          "metadata": {
            "tags": []
          },
          "execution_count": 8
        }
      ]
    },
    {
      "cell_type": "code",
      "metadata": {
        "colab": {
          "base_uri": "https://localhost:8080/",
          "height": 36
        },
        "id": "46VsHq7ToJc2",
        "outputId": "5f08d6e6-1187-4acd-d62a-5cb0adf5f2db"
      },
      "source": [
        "f.name"
      ],
      "execution_count": 9,
      "outputs": [
        {
          "output_type": "execute_result",
          "data": {
            "application/vnd.google.colaboratory.intrinsic+json": {
              "type": "string"
            },
            "text/plain": [
              "'text.txt'"
            ]
          },
          "metadata": {
            "tags": []
          },
          "execution_count": 9
        }
      ]
    },
    {
      "cell_type": "code",
      "metadata": {
        "colab": {
          "base_uri": "https://localhost:8080/"
        },
        "id": "2gFVghEDoNlY",
        "outputId": "def02a56-503f-4a85-a8e9-302c2057d9ca"
      },
      "source": [
        "import matplotlib.cm as cm\n",
        "import matplotlib.pyplot as plt\n",
        "\n",
        "!wget https://kaityo256.github.io/python_zero/file/popmap.zip\n",
        "\n",
        "!unzip -o popmap.zip"
      ],
      "execution_count": 12,
      "outputs": [
        {
          "output_type": "stream",
          "text": [
            "--2021-04-04 06:49:26--  https://kaityo256.github.io/python_zero/file/popmap.zip\n",
            "Resolving kaityo256.github.io (kaityo256.github.io)... 185.199.108.153, 185.199.109.153, 185.199.110.153, ...\n",
            "Connecting to kaityo256.github.io (kaityo256.github.io)|185.199.108.153|:443... connected.\n",
            "HTTP request sent, awaiting response... 200 OK\n",
            "Length: 42400 (41K) [application/zip]\n",
            "Saving to: ‘popmap.zip’\n",
            "\n",
            "\rpopmap.zip            0%[                    ]       0  --.-KB/s               \rpopmap.zip          100%[===================>]  41.41K  --.-KB/s    in 0.01s   \n",
            "\n",
            "2021-04-04 06:49:26 (3.58 MB/s) - ‘popmap.zip’ saved [42400/42400]\n",
            "\n",
            "Archive:  popmap.zip\n",
            "  inflating: population.csv          \n",
            "  inflating: position.csv            \n"
          ],
          "name": "stdout"
        }
      ]
    },
    {
      "cell_type": "code",
      "metadata": {
        "colab": {
          "base_uri": "https://localhost:8080/"
        },
        "id": "SSkgXUDlpLY2",
        "outputId": "184278ef-1919-48ed-88cf-0a5f6c2bb5c8"
      },
      "source": [
        "!head population.csv "
      ],
      "execution_count": 15,
      "outputs": [
        {
          "output_type": "stream",
          "text": [
            "01000,北海道,5543556\n",
            "01100,札幌市,1884939\n",
            "01101,札幌市中央区,206252\n",
            "01102,札幌市北区,273577\n",
            "01103,札幌市東区,252688\n",
            "01104,札幌市白石区,203579\n",
            "01105,札幌市豊平区,208476\n",
            "01106,札幌市南区,147397\n",
            "01107,札幌市西区,209883\n",
            "01108,札幌市厚別区,129604\n"
          ],
          "name": "stdout"
        }
      ]
    },
    {
      "cell_type": "code",
      "metadata": {
        "colab": {
          "base_uri": "https://localhost:8080/"
        },
        "id": "wx2DvbNopfKA",
        "outputId": "3a89f6dc-bd77-4e80-afa1-3e9b7831e834"
      },
      "source": [
        "!head position.csv "
      ],
      "execution_count": 16,
      "outputs": [
        {
          "output_type": "stream",
          "text": [
            "01100,札幌市役所,43.06197200,141.35437400\n",
            "01202,函館市役所,41.76871200,140.72910800\n",
            "01203,小樽市役所,43.19075267,140.99460538\n",
            "01204,旭川市役所,43.77079900,142.36479800\n",
            "01205,室蘭市役所,42.31520400,140.97378400\n",
            "01206,釧路市役所,42.98485600,144.38167000\n",
            "01207,帯広市役所,42.92401400,143.19619500\n",
            "01208,北見市役所,43.80782300,143.89438400\n",
            "01209,夕張市役所,43.05681400,141.97406900\n",
            "01210,岩見沢市役所,43.19616900,141.77585700\n"
          ],
          "name": "stdout"
        }
      ]
    },
    {
      "cell_type": "code",
      "metadata": {
        "id": "nKvETNMfpiVv"
      },
      "source": [
        "d_pop = {}\n",
        "with open(\"population.csv\") as f:\n",
        "  for line in f:\n",
        "    code,_,pop = line.split(\",\")\n",
        "    d_pop[int(code)] = int(pop)"
      ],
      "execution_count": 17,
      "outputs": []
    },
    {
      "cell_type": "code",
      "metadata": {
        "id": "GWPRsU54pwmW"
      },
      "source": [
        "data = []\n",
        "with open(\"position.csv\") as f:\n",
        "  for line in f:\n",
        "    a = line.strip().split(\",\")\n",
        "    code,_,y,x = a \n",
        "    code = int(code)\n",
        "    x,y = float(x),float(y) \n",
        "    if code in d_pop:\n",
        "      data.append((x,y,d_pop[code]))"
      ],
      "execution_count": 24,
      "outputs": []
    },
    {
      "cell_type": "code",
      "metadata": {
        "id": "CB-16Da0s7lK"
      },
      "source": [
        ""
      ],
      "execution_count": null,
      "outputs": []
    },
    {
      "cell_type": "code",
      "metadata": {
        "id": "5-uRouXLsJ0D"
      },
      "source": [
        ""
      ],
      "execution_count": null,
      "outputs": []
    },
    {
      "cell_type": "code",
      "metadata": {
        "id": "6IOIUp1gsH5a"
      },
      "source": [
        ""
      ],
      "execution_count": null,
      "outputs": []
    },
    {
      "cell_type": "code",
      "metadata": {
        "id": "aEcvpMcmpWIm"
      },
      "source": [
        "data = sorted(data,key = lambda x: x[2])"
      ],
      "execution_count": 25,
      "outputs": []
    },
    {
      "cell_type": "code",
      "metadata": {
        "id": "1zmFPxBOs8KU"
      },
      "source": [
        ""
      ],
      "execution_count": null,
      "outputs": []
    },
    {
      "cell_type": "code",
      "metadata": {
        "colab": {
          "base_uri": "https://localhost:8080/",
          "height": 622
        },
        "id": "DOmkaskVsK6Z",
        "outputId": "457ed49d-c110-41e3-8ab0-9ef32cdd79be"
      },
      "source": [
        "nx,ny,nn = [],[],[]\n",
        "for x,y,n in data:\n",
        "  nx.append(x)\n",
        "  ny.append(y)\n",
        "  nn.append(n **0.5 * 0.3)\n",
        "plt.figure(figsize = (15,15),dpi = 50)\n",
        "plt.scatter(nx,ny,c = nn,s = nn,cmap = cm.seismic)"
      ],
      "execution_count": 26,
      "outputs": [
        {
          "output_type": "execute_result",
          "data": {
            "text/plain": [
              "<matplotlib.collections.PathCollection at 0x7fc2bbbe4e90>"
            ]
          },
          "metadata": {
            "tags": []
          },
          "execution_count": 26
        },
        {
          "output_type": "display_data",
          "data": {
            "image/png": "[encoded data removed]",
            "text/plain": [
              "<Figure size 750x750 with 1 Axes>"
            ]
          },
          "metadata": {
            "tags": [],
            "needs_background": "light"
          }
        }
      ]
    },
    {
      "cell_type": "code",
      "metadata": {
        "id": "THRq-VxYs8q1"
      },
      "source": [
        "import numpy as no"
      ],
      "execution_count": null,
      "outputs": []
    },
    {
      "cell_type": "code",
      "metadata": {
        "id": "YYqvmkEesgZz"
      },
      "source": [
        ""
      ],
      "execution_count": null,
      "outputs": []
    },
    {
      "cell_type": "code",
      "metadata": {
        "id": "UIZw4ojcsGv1"
      },
      "source": [
        ""
      ],
      "execution_count": null,
      "outputs": []
    },
    {
      "cell_type": "code",
      "metadata": {
        "id": "gB2N8_mosDYG"
      },
      "source": [
        ""
      ],
      "execution_count": null,
      "outputs": []
    },
    {
      "cell_type": "code",
      "metadata": {
        "id": "HGaH-xfTpT2r"
      },
      "source": [
        ""
      ],
      "execution_count": null,
      "outputs": []
    },
    {
      "cell_type": "code",
      "metadata": {
        "id": "hL8IB6KFpJTd"
      },
      "source": [
        ""
      ],
      "execution_count": null,
      "outputs": []
    },
    {
      "cell_type": "code",
      "metadata": {
        "id": "S4Uqhf8UmiYQ"
      },
      "source": [
        ""
      ],
      "execution_count": null,
      "outputs": []
    },
    {
      "cell_type": "code",
      "metadata": {
        "id": "eM7CmeCpjwkU"
      },
      "source": [
        ""
      ],
      "execution_count": null,
      "outputs": []
    }
  ]
}