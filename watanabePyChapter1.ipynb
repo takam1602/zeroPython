{
  "nbformat": 4,
  "nbformat_minor": 0,
  "metadata": {
    "colab": {
      "name": "watanabePyChapter1.ipynb",
      "provenance": [],
      "authorship_tag": "ABX9TyM8xndE/d+0CW9PFZaqQe4D",
      "include_colab_link": true
    },
    "kernelspec": {
      "name": "python3",
      "display_name": "Python 3"
    },
    "language_info": {
      "name": "python"
    }
  },
  "cells": [
    {
      "cell_type": "markdown",
      "metadata": {
        "id": "view-in-github",
        "colab_type": "text"
      },
      "source": [
        "<a href=\"https://colab.research.google.com/github/takam1602/zeroPython/blob/main/watanabePyChapter1.ipynb\" target=\"_parent\"><img src=\"https://colab.research.google.com/assets/colab-badge.svg\" alt=\"Open In Colab\"/></a>"
      ]
    },
    {
      "cell_type": "code",
      "metadata": {
        "colab": {
          "base_uri": "https://localhost:8080/"
        },
        "id": "xH1nE6XoErWm",
        "outputId": "19001ba7-71c4-48dd-e8cb-bb6897de72d8"
      },
      "source": [
        "3+5"
      ],
      "execution_count": null,
      "outputs": [
        {
          "output_type": "execute_result",
          "data": {
            "text/plain": [
              "8"
            ]
          },
          "metadata": {
            "tags": []
          },
          "execution_count": 1
        }
      ]
    },
    {
      "cell_type": "code",
      "metadata": {
        "id": "yZ0wLvH8Ewvr"
      },
      "source": [
        "a=123"
      ],
      "execution_count": null,
      "outputs": []
    },
    {
      "cell_type": "code",
      "metadata": {
        "colab": {
          "base_uri": "https://localhost:8080/"
        },
        "id": "hHRfQSIuE4yk",
        "outputId": "65ac936d-9f9f-4532-8b79-fd2666c85146"
      },
      "source": [
        "print(a)"
      ],
      "execution_count": null,
      "outputs": [
        {
          "output_type": "stream",
          "text": [
            "123\n"
          ],
          "name": "stdout"
        }
      ]
    },
    {
      "cell_type": "code",
      "metadata": {
        "colab": {
          "base_uri": "https://localhost:8080/"
        },
        "id": "34RGiJ3eE8f6",
        "outputId": "719bb639-e4c1-43b4-feff-a3998bf00df9"
      },
      "source": [
        "a"
      ],
      "execution_count": null,
      "outputs": [
        {
          "output_type": "execute_result",
          "data": {
            "text/plain": [
              "123"
            ]
          },
          "metadata": {
            "tags": []
          },
          "execution_count": 7
        }
      ]
    },
    {
      "cell_type": "code",
      "metadata": {
        "colab": {
          "base_uri": "https://localhost:8080/",
          "height": 163
        },
        "id": "74J4pDD7FAoX",
        "outputId": "121598d8-ae77-4c39-c52e-539d32c28ddc"
      },
      "source": [
        "rint(\"hello world\")"
      ],
      "execution_count": null,
      "outputs": [
        {
          "output_type": "error",
          "ename": "NameError",
          "evalue": "ignored",
          "traceback": [
            "\u001b[0;31m---------------------------------------------------------------------------\u001b[0m",
            "\u001b[0;31mNameError\u001b[0m                                 Traceback (most recent call last)",
            "\u001b[0;32m<ipython-input-9-c8cde12ee129>\u001b[0m in \u001b[0;36m<module>\u001b[0;34m()\u001b[0m\n\u001b[0;32m----> 1\u001b[0;31m \u001b[0mrint\u001b[0m\u001b[0;34m(\u001b[0m\u001b[0;34m\"hello world\"\u001b[0m\u001b[0;34m)\u001b[0m\u001b[0;34m\u001b[0m\u001b[0;34m\u001b[0m\u001b[0m\n\u001b[0m",
            "\u001b[0;31mNameError\u001b[0m: name 'rint' is not defined"
          ]
        }
      ]
    },
    {
      "cell_type": "code",
      "metadata": {
        "id": "FXIHBrtNFQI0",
        "colab": {
          "base_uri": "https://localhost:8080/"
        },
        "outputId": "40d62d5f-ea74-4f63-9597-f0172a3ed6fa"
      },
      "source": [
        "print(\"hello world\")\n",
        "from PIL import Image, ImageDraw\n",
        "from math import pi,sin,cos"
      ],
      "execution_count": 16,
      "outputs": [
        {
          "output_type": "stream",
          "text": [
            "hello world\n"
          ],
          "name": "stdout"
        }
      ]
    },
    {
      "cell_type": "code",
      "metadata": {
        "colab": {
          "base_uri": "https://localhost:8080/",
          "height": 290
        },
        "id": "xCL9iN72FmRI",
        "outputId": "66fe35b3-8bd2-4286-8142-88f960441f5e"
      },
      "source": [
        "img = Image.new(\"L\",(256,256),255)\n",
        "draw = ImageDraw.Draw(img)\n",
        "cx = 128\n",
        "cy = 128\n",
        "r = 96\n",
        "draw.ellipse((cx-r,cy-r,cx+r,cy+r))\n",
        "N = 10\n",
        "\n",
        "s = 2*pi/N\n",
        "k = N // 2\n",
        "\n",
        "print(k)\n",
        "if(N%2 != 0):\n",
        "  for i in range(N):\n",
        "    s1 = ((i*k)%N) * s-0.5 *pi\n",
        "    s2 = s1 +s*k\n",
        "    x1 = r * cos(s1) + cx\n",
        "    y1 = r * sin(s1) + cy\n",
        "    x2 = r * cos(s2) + cx\n",
        "    y2 = r * sin(s2) + cy\n",
        "    draw.line((x1,y1,x2,y2))\n",
        "else:\n",
        "  for i in range(N):\n",
        "    s1 = i*s\n",
        "    s2 = s1 + 2*s\n",
        "    x1 = r * cos(s1) + cx\n",
        "    y1 = r * sin(s1) + cy\n",
        "    x2 = r * cos(s2) + cx\n",
        "    y2 = r * sin(s2) + cy\n",
        "    draw.line((x1,y1,x2,y2))\n",
        "\n",
        "img"
      ],
      "execution_count": 101,
      "outputs": [
        {
          "output_type": "stream",
          "text": [
            "5\n"
          ],
          "name": "stdout"
        },
        {
          "output_type": "execute_result",
          "data": {
            "image/png": "[encoded data removed]",
            "text/plain": [
              "<PIL.Image.Image image mode=L size=256x256 at 0x7F0B59C5BD90>"
            ]
          },
          "metadata": {
            "tags": []
          },
          "execution_count": 101
        }
      ]
    },
    {
      "cell_type": "code",
      "metadata": {
        "colab": {
          "base_uri": "https://localhost:8080/",
          "height": 273
        },
        "id": "uhXLKpM7GDxm",
        "outputId": "0d420ddd-d8be-4408-87be-9a873d8f546a"
      },
      "source": [
        ""
      ],
      "execution_count": 64,
      "outputs": [
        {
          "output_type": "execute_result",
          "data": {
            "image/png": "[encoded data removed]",
            "text/plain": [
              "<PIL.Image.Image image mode=L size=256x256 at 0x7F0B59CD7410>"
            ]
          },
          "metadata": {
            "tags": []
          },
          "execution_count": 64
        }
      ]
    },
    {
      "cell_type": "code",
      "metadata": {
        "id": "EET4CBkqGMqc"
      },
      "source": [
        ""
      ],
      "execution_count": null,
      "outputs": []
    }
  ]
}