{
  "nbformat": 4,
  "nbformat_minor": 0,
  "metadata": {
    "colab": {
      "name": "Untitled1.ipynb",
      "provenance": [],
      "authorship_tag": "ABX9TyPq+w+Pu+GapIEWpJ1Z5qpP",
      "include_colab_link": true
    },
    "kernelspec": {
      "name": "python3",
      "display_name": "Python 3"
    },
    "language_info": {
      "name": "python"
    }
  },
  "cells": [
    {
      "cell_type": "markdown",
      "metadata": {
        "id": "view-in-github",
        "colab_type": "text"
      },
      "source": [
        "<a href=\"https://colab.research.google.com/github/takam1602/zeroPython/blob/main/watanabe_pythonChap2.ipynb\" target=\"_parent\"><img src=\"https://colab.research.google.com/assets/colab-badge.svg\" alt=\"Open In Colab\"/></a>"
      ]
    },
    {
      "cell_type": "code",
      "metadata": {
        "colab": {
          "base_uri": "https://localhost:8080/"
        },
        "id": "O0vl_-BPJ8V5",
        "outputId": "62bbcff1-2d06-4839-c266-339ed1fffa94"
      },
      "source": [
        "a = 10\n",
        "b = 10\n",
        "\n",
        "print(a)"
      ],
      "execution_count": 1,
      "outputs": [
        {
          "output_type": "stream",
          "text": [
            "10\n"
          ],
          "name": "stdout"
        }
      ]
    },
    {
      "cell_type": "code",
      "metadata": {
        "colab": {
          "base_uri": "https://localhost:8080/"
        },
        "id": "wGAJClDoKK0L",
        "outputId": "55fc39bd-4fd9-4655-b374-ba9188946288"
      },
      "source": [
        "print(b)"
      ],
      "execution_count": 2,
      "outputs": [
        {
          "output_type": "stream",
          "text": [
            "10\n"
          ],
          "name": "stdout"
        }
      ]
    },
    {
      "cell_type": "code",
      "metadata": {
        "colab": {
          "base_uri": "https://localhost:8080/"
        },
        "id": "LwReLlWmKORM",
        "outputId": "ae399b4a-4bce-4223-f5bb-4dde30040f0e"
      },
      "source": [
        "a"
      ],
      "execution_count": 3,
      "outputs": [
        {
          "output_type": "execute_result",
          "data": {
            "text/plain": [
              "10"
            ]
          },
          "metadata": {
            "tags": []
          },
          "execution_count": 3
        }
      ]
    },
    {
      "cell_type": "code",
      "metadata": {
        "colab": {
          "base_uri": "https://localhost:8080/"
        },
        "id": "yBqBf1C0KTK1",
        "outputId": "763a51f3-dfe2-43f6-81f5-a2acbb924cd8"
      },
      "source": [
        "b"
      ],
      "execution_count": 4,
      "outputs": [
        {
          "output_type": "execute_result",
          "data": {
            "text/plain": [
              "10"
            ]
          },
          "metadata": {
            "tags": []
          },
          "execution_count": 4
        }
      ]
    },
    {
      "cell_type": "code",
      "metadata": {
        "colab": {
          "base_uri": "https://localhost:8080/",
          "height": 172
        },
        "id": "tHlQOdcUKUmv",
        "outputId": "084f50b9-a3d4-4106-e6cb-97a0487e035f"
      },
      "source": [
        "a = c "
      ],
      "execution_count": 5,
      "outputs": [
        {
          "output_type": "error",
          "ename": "NameError",
          "evalue": "ignored",
          "traceback": [
            "\u001b[0;31m---------------------------------------------------------------------------\u001b[0m",
            "\u001b[0;31mNameError\u001b[0m                                 Traceback (most recent call last)",
            "\u001b[0;32m<ipython-input-5-2bd67b56b259>\u001b[0m in \u001b[0;36m<module>\u001b[0;34m()\u001b[0m\n\u001b[0;32m----> 1\u001b[0;31m \u001b[0ma\u001b[0m \u001b[0;34m=\u001b[0m \u001b[0mc\u001b[0m\u001b[0;34m\u001b[0m\u001b[0;34m\u001b[0m\u001b[0m\n\u001b[0m",
            "\u001b[0;31mNameError\u001b[0m: name 'c' is not defined"
          ]
        }
      ]
    },
    {
      "cell_type": "code",
      "metadata": {
        "id": "V2A6x_--Kc-2"
      },
      "source": [
        "c = 20 \n",
        "a = c "
      ],
      "execution_count": 6,
      "outputs": []
    },
    {
      "cell_type": "code",
      "metadata": {
        "colab": {
          "base_uri": "https://localhost:8080/"
        },
        "id": "pM3Eu9rAKiOL",
        "outputId": "25089a95-3034-4388-d7d1-b96eb4be691e"
      },
      "source": [
        "c"
      ],
      "execution_count": 7,
      "outputs": [
        {
          "output_type": "execute_result",
          "data": {
            "text/plain": [
              "20"
            ]
          },
          "metadata": {
            "tags": []
          },
          "execution_count": 7
        }
      ]
    },
    {
      "cell_type": "code",
      "metadata": {
        "colab": {
          "base_uri": "https://localhost:8080/"
        },
        "id": "XunsxWarKjIb",
        "outputId": "672fe034-9a5b-4e56-ba65-6937deac0bf4"
      },
      "source": [
        "a"
      ],
      "execution_count": 8,
      "outputs": [
        {
          "output_type": "execute_result",
          "data": {
            "text/plain": [
              "20"
            ]
          },
          "metadata": {
            "tags": []
          },
          "execution_count": 8
        }
      ]
    },
    {
      "cell_type": "code",
      "metadata": {
        "colab": {
          "base_uri": "https://localhost:8080/"
        },
        "id": "QF0MybHFKjzj",
        "outputId": "a8d9cfc0-8a12-4261-a1c6-69a3a2ef8962"
      },
      "source": [
        "type(a)"
      ],
      "execution_count": 9,
      "outputs": [
        {
          "output_type": "execute_result",
          "data": {
            "text/plain": [
              "int"
            ]
          },
          "metadata": {
            "tags": []
          },
          "execution_count": 9
        }
      ]
    },
    {
      "cell_type": "code",
      "metadata": {
        "colab": {
          "base_uri": "https://localhost:8080/"
        },
        "id": "S2XC2xGbKvb0",
        "outputId": "2152d721-1aca-4777-bba7-174796b2dd22"
      },
      "source": [
        "type(b)"
      ],
      "execution_count": 10,
      "outputs": [
        {
          "output_type": "execute_result",
          "data": {
            "text/plain": [
              "int"
            ]
          },
          "metadata": {
            "tags": []
          },
          "execution_count": 10
        }
      ]
    },
    {
      "cell_type": "code",
      "metadata": {
        "colab": {
          "base_uri": "https://localhost:8080/"
        },
        "id": "T3Q6Tm47KyIL",
        "outputId": "7f46004f-37f7-4655-9908-052941fd0e55"
      },
      "source": [
        "b = 1.0000\n",
        "b\n"
      ],
      "execution_count": 11,
      "outputs": [
        {
          "output_type": "execute_result",
          "data": {
            "text/plain": [
              "1.0"
            ]
          },
          "metadata": {
            "tags": []
          },
          "execution_count": 11
        }
      ]
    },
    {
      "cell_type": "code",
      "metadata": {
        "colab": {
          "base_uri": "https://localhost:8080/"
        },
        "id": "6Et_nTwUK2ZZ",
        "outputId": "e7fe3142-dbbb-459b-d3b0-c05c2346bfac"
      },
      "source": [
        "type(b)\n"
      ],
      "execution_count": 12,
      "outputs": [
        {
          "output_type": "execute_result",
          "data": {
            "text/plain": [
              "float"
            ]
          },
          "metadata": {
            "tags": []
          },
          "execution_count": 12
        }
      ]
    },
    {
      "cell_type": "code",
      "metadata": {
        "colab": {
          "base_uri": "https://localhost:8080/"
        },
        "id": "a4x3yyvSK4f4",
        "outputId": "95c3f2ee-30e1-404c-ed65-66384c8a9425"
      },
      "source": [
        "type(c)"
      ],
      "execution_count": 13,
      "outputs": [
        {
          "output_type": "execute_result",
          "data": {
            "text/plain": [
              "int"
            ]
          },
          "metadata": {
            "tags": []
          },
          "execution_count": 13
        }
      ]
    },
    {
      "cell_type": "code",
      "metadata": {
        "id": "W7t5K_B6K6Da"
      },
      "source": [
        "c = \"hello\""
      ],
      "execution_count": 14,
      "outputs": []
    },
    {
      "cell_type": "code",
      "metadata": {
        "colab": {
          "base_uri": "https://localhost:8080/"
        },
        "id": "vAyK_BkGK8YR",
        "outputId": "32a10c5e-e48e-4672-f4bd-e838e46f0819"
      },
      "source": [
        "type(c )"
      ],
      "execution_count": 15,
      "outputs": [
        {
          "output_type": "execute_result",
          "data": {
            "text/plain": [
              "str"
            ]
          },
          "metadata": {
            "tags": []
          },
          "execution_count": 15
        }
      ]
    },
    {
      "cell_type": "code",
      "metadata": {
        "id": "bJSz7ycPK9bN"
      },
      "source": [
        "d = 1 + 3j \n",
        "f = complex(2,4)"
      ],
      "execution_count": 16,
      "outputs": []
    },
    {
      "cell_type": "code",
      "metadata": {
        "colab": {
          "base_uri": "https://localhost:8080/"
        },
        "id": "W_RGobiNL_Jd",
        "outputId": "2e52886e-9344-4589-8cbb-750d78c40c2a"
      },
      "source": [
        "d "
      ],
      "execution_count": 17,
      "outputs": [
        {
          "output_type": "execute_result",
          "data": {
            "text/plain": [
              "(1+3j)"
            ]
          },
          "metadata": {
            "tags": []
          },
          "execution_count": 17
        }
      ]
    },
    {
      "cell_type": "code",
      "metadata": {
        "colab": {
          "base_uri": "https://localhost:8080/"
        },
        "id": "rA_jwDqfL_sD",
        "outputId": "c3753725-f35a-42c5-e406-cb70fa2cd362"
      },
      "source": [
        "f "
      ],
      "execution_count": 18,
      "outputs": [
        {
          "output_type": "execute_result",
          "data": {
            "text/plain": [
              "(2+4j)"
            ]
          },
          "metadata": {
            "tags": []
          },
          "execution_count": 18
        }
      ]
    },
    {
      "cell_type": "code",
      "metadata": {
        "colab": {
          "base_uri": "https://localhost:8080/"
        },
        "id": "WPYtgQ4XMAEc",
        "outputId": "10d3dde8-812f-46a7-e0f2-eed2bb534a6d"
      },
      "source": [
        "d.real "
      ],
      "execution_count": 19,
      "outputs": [
        {
          "output_type": "execute_result",
          "data": {
            "text/plain": [
              "1.0"
            ]
          },
          "metadata": {
            "tags": []
          },
          "execution_count": 19
        }
      ]
    },
    {
      "cell_type": "code",
      "metadata": {
        "colab": {
          "base_uri": "https://localhost:8080/"
        },
        "id": "Jr5yL0GcMCFd",
        "outputId": "4b7a9c0a-b6ce-490d-9d8b-25b869b68de0"
      },
      "source": [
        "d.imag"
      ],
      "execution_count": 20,
      "outputs": [
        {
          "output_type": "execute_result",
          "data": {
            "text/plain": [
              "3.0"
            ]
          },
          "metadata": {
            "tags": []
          },
          "execution_count": 20
        }
      ]
    },
    {
      "cell_type": "code",
      "metadata": {
        "id": "cBrShJMBMD2s"
      },
      "source": [
        "def newton(x):\n",
        "  for _ in range(10):\n",
        "    x = x -(x**3 -1)/(3*x**2)\n",
        "    print(x)"
      ],
      "execution_count": 22,
      "outputs": []
    },
    {
      "cell_type": "code",
      "metadata": {
        "colab": {
          "base_uri": "https://localhost:8080/"
        },
        "id": "y7UCYMJYN1fI",
        "outputId": "865ff915-cb8d-4c30-fbbb-22e66abfe868"
      },
      "source": [
        "newton(3)"
      ],
      "execution_count": 23,
      "outputs": [
        {
          "output_type": "stream",
          "text": [
            "2.037037037037037\n",
            "1.4383552698704216\n",
            "1.1200223833365093\n",
            "1.0124022603818694\n",
            "1.0001513113605827\n",
            "1.0000000228905097\n",
            "1.0000000000000004\n",
            "1.0\n",
            "1.0\n",
            "1.0\n"
          ],
          "name": "stdout"
        }
      ]
    },
    {
      "cell_type": "code",
      "metadata": {
        "colab": {
          "base_uri": "https://localhost:8080/"
        },
        "id": "N3rHePzTN5wg",
        "outputId": "19485196-6cdb-4b7b-ea26-3922033f0ec9"
      },
      "source": [
        "newton(2+0j)"
      ],
      "execution_count": 24,
      "outputs": [
        {
          "output_type": "stream",
          "text": [
            "(1.4166666666666665+0j)\n",
            "(1.1105344098423682+0j)\n",
            "(1.0106367684045563+0j)\n",
            "(1.0001115573039492+0j)\n",
            "(1.0000000124431812+0j)\n",
            "(1.0000000000000002+0j)\n",
            "(1+0j)\n",
            "(1+0j)\n",
            "(1+0j)\n",
            "(1+0j)\n"
          ],
          "name": "stdout"
        }
      ]
    },
    {
      "cell_type": "code",
      "metadata": {
        "colab": {
          "base_uri": "https://localhost:8080/"
        },
        "id": "zRaJro2jOB2Q",
        "outputId": "da60e6c2-ddf6-4cfa-f522-90ab566abb3e"
      },
      "source": [
        "newton(-1+1j)\n"
      ],
      "execution_count": 25,
      "outputs": [
        {
          "output_type": "stream",
          "text": [
            "(-0.6666666666666667+0.8333333333333334j)\n",
            "(-0.5086919161874546+0.8410998744133783j)\n",
            "(-0.49932999564375125+0.8662691717880057j)\n",
            "(-0.4999999113699129+0.8660249031568892j)\n",
            "(-0.4999999999999555+0.8660254037846933j)\n",
            "(-0.5+0.8660254037844386j)\n",
            "(-0.5+0.8660254037844387j)\n",
            "(-0.5+0.8660254037844386j)\n",
            "(-0.5+0.8660254037844387j)\n",
            "(-0.5+0.8660254037844386j)\n"
          ],
          "name": "stdout"
        }
      ]
    },
    {
      "cell_type": "code",
      "metadata": {
        "colab": {
          "base_uri": "https://localhost:8080/"
        },
        "id": "wl9pwK2FOGjJ",
        "outputId": "9a7631aa-c986-42c7-cebc-86ac4ecfcae8"
      },
      "source": [
        "newton(-1-1j\n",
        "       )"
      ],
      "execution_count": 26,
      "outputs": [
        {
          "output_type": "stream",
          "text": [
            "(-0.6666666666666667-0.8333333333333334j)\n",
            "(-0.5086919161874546-0.8410998744133783j)\n",
            "(-0.49932999564375125-0.8662691717880057j)\n",
            "(-0.4999999113699129-0.8660249031568892j)\n",
            "(-0.4999999999999555-0.8660254037846933j)\n",
            "(-0.5-0.8660254037844386j)\n",
            "(-0.5-0.8660254037844387j)\n",
            "(-0.5-0.8660254037844386j)\n",
            "(-0.5-0.8660254037844387j)\n",
            "(-0.5-0.8660254037844386j)\n"
          ],
          "name": "stdout"
        }
      ]
    },
    {
      "cell_type": "code",
      "metadata": {
        "id": "ZZNNdPTDOMNA"
      },
      "source": [
        "from PIL import Image, ImageDraw"
      ],
      "execution_count": 28,
      "outputs": []
    },
    {
      "cell_type": "code",
      "metadata": {
        "id": "3ALcnxnUOWJc"
      },
      "source": [
        "def newton(x):\n",
        "  for _ in range(5):\n",
        "    x = x -(x**3 - 1) / (3 * x **2)\n",
        "  return x"
      ],
      "execution_count": 52,
      "outputs": []
    },
    {
      "cell_type": "code",
      "metadata": {
        "id": "gS2bZxAGOnpB"
      },
      "source": [
        "def plot(draw, s ):\n",
        "  hs  = s //2\n",
        "  red  = (255,0,0)\n",
        "  green = (0,255,0)\n",
        "  blue = (0,0,255)\n",
        "\n",
        "  for x in range(s):\n",
        "    for y in range(s):\n",
        "      z = complex(x - hs+0.5, -y + hs + 0.5) / s *4 \n",
        "      z = newton(z)\n",
        "      if z.real >0:\n",
        "        c = red \n",
        "      elif z.real <0 and z.imag >0:\n",
        "        c = green\n",
        "      else :\n",
        "        c = blue\n",
        "      draw.rectangle([x,y,x+1,y+1],fill = c)"
      ],
      "execution_count": 53,
      "outputs": []
    },
    {
      "cell_type": "code",
      "metadata": {
        "id": "RvVJiDt_P2Nq"
      },
      "source": [
        "size = 512\n",
        "img = Image.new(\"RGB\",(size,size))"
      ],
      "execution_count": 54,
      "outputs": []
    },
    {
      "cell_type": "code",
      "metadata": {
        "colab": {
          "base_uri": "https://localhost:8080/",
          "height": 529
        },
        "id": "urXVmL0GP9SU",
        "outputId": "fb0a775b-3341-4194-f1cf-c5b0740613f7"
      },
      "source": [
        "draw = ImageDraw.Draw(img)\n",
        "plot(draw,size)\n",
        "img"
      ],
      "execution_count": 55,
      "outputs": [
        {
          "output_type": "execute_result",
          "data": {
            "image/png": "[encoded data removed]",
            "text/plain": [
              "<PIL.Image.Image image mode=RGB size=512x512 at 0x7F557836FAD0>"
            ]
          },
          "metadata": {
            "tags": []
          },
          "execution_count": 55
        }
      ]
    },
    {
      "cell_type": "code",
      "metadata": {
        "id": "OQHLR1fcQFLf"
      },
      "source": [
        "def newton4d(x):\n",
        "  for _ in range(20):\n",
        "    x = x -(x**4 - 1) / (4 * x **3)\n",
        "  return x"
      ],
      "execution_count": 60,
      "outputs": []
    },
    {
      "cell_type": "code",
      "metadata": {
        "id": "7a7tKC8PXEaR"
      },
      "source": [
        "def plot4d(draw, s ):\n",
        "  hs  = s //2\n",
        "  red  = (255,0,0)\n",
        "  green = (0,255,0)\n",
        "  blue = (0,0,255)\n",
        "  purple = (255,0,255)\n",
        "\n",
        "  for x in range(s):\n",
        "    for y in range(s):\n",
        "      z = complex(x - hs+0.5, -y + hs + 0.5) / s *4 \n",
        "      z = newton4d(z)\n",
        "\n",
        "      if z.real + z.imag >0:\n",
        "        c = red \n",
        "      elif z.real + z.imag <0:\n",
        "        c = green\n",
        "      elif z.real - z.imag >0:\n",
        "        c = blue\n",
        "      else:\n",
        "        c = purple\n",
        "\n",
        "      draw.rectangle([x,y,x+1,y+1],fill = c)"
      ],
      "execution_count": 61,
      "outputs": []
    },
    {
      "cell_type": "code",
      "metadata": {
        "colab": {
          "base_uri": "https://localhost:8080/",
          "height": 529
        },
        "id": "EAhcPb8hYNbG",
        "outputId": "02c6441c-d0d9-47e5-f623-1b15d9515986"
      },
      "source": [
        "size = 512\n",
        "img = Image.new(\"RGB\",(size,size))\n",
        "draw = ImageDraw.Draw(img)\n",
        "plot4d(draw,size)\n",
        "img"
      ],
      "execution_count": 62,
      "outputs": [
        {
          "output_type": "execute_result",
          "data": {
            "image/png": "[encoded data removed]",
            "text/plain": [
              "<PIL.Image.Image image mode=RGB size=512x512 at 0x7F55827A28D0>"
            ]
          },
          "metadata": {
            "tags": []
          },
          "execution_count": 62
        }
      ]
    },
    {
      "cell_type": "code",
      "metadata": {
        "id": "sHE5cLWQYWNe"
      },
      "source": [
        ""
      ],
      "execution_count": null,
      "outputs": []
    }
  ]
}